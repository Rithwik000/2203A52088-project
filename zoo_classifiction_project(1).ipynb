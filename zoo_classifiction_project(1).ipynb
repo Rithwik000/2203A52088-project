{
  "nbformat": 4,
  "nbformat_minor": 0,
  "metadata": {
    "colab": {
      "provenance": []
    },
    "kernelspec": {
      "name": "python3",
      "display_name": "Python 3"
    },
    "language_info": {
      "name": "python"
    }
  },
  "cells": [
    {
      "cell_type": "code",
      "execution_count": 6,
      "metadata": {
        "colab": {
          "base_uri": "https://localhost:8080/"
        },
        "id": "YXnFz1joE8aV",
        "outputId": "d82dedc3-340a-4263-e231-0689e834e19a"
      },
      "outputs": [
        {
          "output_type": "stream",
          "name": "stdout",
          "text": [
            "      hair  feathers   eggs   milk  airborne  aquatic  predator  toothed  \\\n",
            "0     True     False  False   True     False    False      True     True   \n",
            "1     True     False  False   True     False    False     False     True   \n",
            "2    False     False   True  False     False     True      True     True   \n",
            "3     True     False  False   True     False    False      True     True   \n",
            "4     True     False  False   True     False    False      True     True   \n",
            "..     ...       ...    ...    ...       ...      ...       ...      ...   \n",
            "96    True     False  False   True     False    False     False     True   \n",
            "97    True     False   True  False      True    False     False    False   \n",
            "98    True     False  False   True     False    False      True     True   \n",
            "99   False     False   True  False     False    False     False    False   \n",
            "100  False      True   True  False      True    False     False    False   \n",
            "\n",
            "     backbone  breathes  venomous   fins  legs   tail  domestic  catsize  \\\n",
            "0        True      True     False  False     4  False     False     True   \n",
            "1        True      True     False  False     4   True     False     True   \n",
            "2        True     False     False   True     0   True     False    False   \n",
            "3        True      True     False  False     4  False     False     True   \n",
            "4        True      True     False  False     4   True     False     True   \n",
            "..        ...       ...       ...    ...   ...    ...       ...      ...   \n",
            "96       True      True     False  False     2   True     False     True   \n",
            "97      False      True      True  False     6  False     False    False   \n",
            "98       True      True     False  False     4   True     False     True   \n",
            "99      False      True     False  False     0  False     False    False   \n",
            "100      True      True     False  False     2   True     False    False   \n",
            "\n",
            "              type  \n",
            "0           mammal  \n",
            "1           mammal  \n",
            "2             fish  \n",
            "3           mammal  \n",
            "4           mammal  \n",
            "..             ...  \n",
            "96          mammal  \n",
            "97          insect  \n",
            "98          mammal  \n",
            "99   mollusc.et.al  \n",
            "100           bird  \n",
            "\n",
            "[101 rows x 17 columns]\n",
            "      hair  feathers   eggs   milk  airborne  aquatic  predator  toothed  \\\n",
            "0    False     False  False  False     False    False     False    False   \n",
            "1    False     False  False  False     False    False     False    False   \n",
            "2    False     False  False  False     False    False     False    False   \n",
            "3    False     False  False  False     False    False     False    False   \n",
            "4    False     False  False  False     False    False     False    False   \n",
            "..     ...       ...    ...    ...       ...      ...       ...      ...   \n",
            "96   False     False  False  False     False    False     False    False   \n",
            "97   False     False  False  False     False    False     False    False   \n",
            "98   False     False  False  False     False    False     False    False   \n",
            "99   False     False  False  False     False    False     False    False   \n",
            "100  False     False  False  False     False    False     False    False   \n",
            "\n",
            "     backbone  breathes  venomous   fins   legs   tail  domestic  catsize  \\\n",
            "0       False     False     False  False  False  False     False    False   \n",
            "1       False     False     False  False  False  False     False    False   \n",
            "2       False     False     False  False  False  False     False    False   \n",
            "3       False     False     False  False  False  False     False    False   \n",
            "4       False     False     False  False  False  False     False    False   \n",
            "..        ...       ...       ...    ...    ...    ...       ...      ...   \n",
            "96      False     False     False  False  False  False     False    False   \n",
            "97      False     False     False  False  False  False     False    False   \n",
            "98      False     False     False  False  False  False     False    False   \n",
            "99      False     False     False  False  False  False     False    False   \n",
            "100     False     False     False  False  False  False     False    False   \n",
            "\n",
            "      type  \n",
            "0    False  \n",
            "1    False  \n",
            "2    False  \n",
            "3    False  \n",
            "4    False  \n",
            "..     ...  \n",
            "96   False  \n",
            "97   False  \n",
            "98   False  \n",
            "99   False  \n",
            "100  False  \n",
            "\n",
            "[101 rows x 17 columns]\n"
          ]
        }
      ],
      "source": [
        "import pandas as pd\n",
        "a=pd.read_csv('/content/Zoo.csv')\n",
        "print(a)\n",
        "print(a.isnull())\n",
        "a=a.fillna(0)"
      ]
    },
    {
      "cell_type": "code",
      "source": [
        "import pandas as pd\n",
        "c={'True':1,'False':0}\n",
        "a=a.replace(c)\n",
        "print(a)"
      ],
      "metadata": {
        "colab": {
          "base_uri": "https://localhost:8080/"
        },
        "id": "DWH4JYZtFPfy",
        "outputId": "0318b198-8dd3-4f5b-feb7-80574f9b8f7d"
      },
      "execution_count": 7,
      "outputs": [
        {
          "output_type": "stream",
          "name": "stdout",
          "text": [
            "      hair  feathers   eggs   milk  airborne  aquatic  predator  toothed  \\\n",
            "0     True     False  False   True     False    False      True     True   \n",
            "1     True     False  False   True     False    False     False     True   \n",
            "2    False     False   True  False     False     True      True     True   \n",
            "3     True     False  False   True     False    False      True     True   \n",
            "4     True     False  False   True     False    False      True     True   \n",
            "..     ...       ...    ...    ...       ...      ...       ...      ...   \n",
            "96    True     False  False   True     False    False     False     True   \n",
            "97    True     False   True  False      True    False     False    False   \n",
            "98    True     False  False   True     False    False      True     True   \n",
            "99   False     False   True  False     False    False     False    False   \n",
            "100  False      True   True  False      True    False     False    False   \n",
            "\n",
            "     backbone  breathes  venomous   fins  legs   tail  domestic  catsize  \\\n",
            "0        True      True     False  False     4  False     False     True   \n",
            "1        True      True     False  False     4   True     False     True   \n",
            "2        True     False     False   True     0   True     False    False   \n",
            "3        True      True     False  False     4  False     False     True   \n",
            "4        True      True     False  False     4   True     False     True   \n",
            "..        ...       ...       ...    ...   ...    ...       ...      ...   \n",
            "96       True      True     False  False     2   True     False     True   \n",
            "97      False      True      True  False     6  False     False    False   \n",
            "98       True      True     False  False     4   True     False     True   \n",
            "99      False      True     False  False     0  False     False    False   \n",
            "100      True      True     False  False     2   True     False    False   \n",
            "\n",
            "              type  \n",
            "0           mammal  \n",
            "1           mammal  \n",
            "2             fish  \n",
            "3           mammal  \n",
            "4           mammal  \n",
            "..             ...  \n",
            "96          mammal  \n",
            "97          insect  \n",
            "98          mammal  \n",
            "99   mollusc.et.al  \n",
            "100           bird  \n",
            "\n",
            "[101 rows x 17 columns]\n"
          ]
        }
      ]
    },
    {
      "cell_type": "code",
      "source": [
        "y=a[\"type\"]\n",
        "print(y)"
      ],
      "metadata": {
        "colab": {
          "base_uri": "https://localhost:8080/"
        },
        "id": "S8sCqMnPFWaM",
        "outputId": "539b9770-fb09-4a2c-f11c-3eac20fda4f8"
      },
      "execution_count": 8,
      "outputs": [
        {
          "output_type": "stream",
          "name": "stdout",
          "text": [
            "0             mammal\n",
            "1             mammal\n",
            "2               fish\n",
            "3             mammal\n",
            "4             mammal\n",
            "           ...      \n",
            "96            mammal\n",
            "97            insect\n",
            "98            mammal\n",
            "99     mollusc.et.al\n",
            "100             bird\n",
            "Name: type, Length: 101, dtype: object\n"
          ]
        }
      ]
    },
    {
      "cell_type": "code",
      "source": [
        "x=a.drop(\"type\", axis=1)\n",
        "print(x)"
      ],
      "metadata": {
        "colab": {
          "base_uri": "https://localhost:8080/"
        },
        "id": "JJ7uf9ChGWBH",
        "outputId": "84bd3757-c665-47b7-82fe-bd9ecdf1abf2"
      },
      "execution_count": 9,
      "outputs": [
        {
          "output_type": "stream",
          "name": "stdout",
          "text": [
            "      hair  feathers   eggs   milk  airborne  aquatic  predator  toothed  \\\n",
            "0     True     False  False   True     False    False      True     True   \n",
            "1     True     False  False   True     False    False     False     True   \n",
            "2    False     False   True  False     False     True      True     True   \n",
            "3     True     False  False   True     False    False      True     True   \n",
            "4     True     False  False   True     False    False      True     True   \n",
            "..     ...       ...    ...    ...       ...      ...       ...      ...   \n",
            "96    True     False  False   True     False    False     False     True   \n",
            "97    True     False   True  False      True    False     False    False   \n",
            "98    True     False  False   True     False    False      True     True   \n",
            "99   False     False   True  False     False    False     False    False   \n",
            "100  False      True   True  False      True    False     False    False   \n",
            "\n",
            "     backbone  breathes  venomous   fins  legs   tail  domestic  catsize  \n",
            "0        True      True     False  False     4  False     False     True  \n",
            "1        True      True     False  False     4   True     False     True  \n",
            "2        True     False     False   True     0   True     False    False  \n",
            "3        True      True     False  False     4  False     False     True  \n",
            "4        True      True     False  False     4   True     False     True  \n",
            "..        ...       ...       ...    ...   ...    ...       ...      ...  \n",
            "96       True      True     False  False     2   True     False     True  \n",
            "97      False      True      True  False     6  False     False    False  \n",
            "98       True      True     False  False     4   True     False     True  \n",
            "99      False      True     False  False     0  False     False    False  \n",
            "100      True      True     False  False     2   True     False    False  \n",
            "\n",
            "[101 rows x 16 columns]\n"
          ]
        }
      ]
    },
    {
      "cell_type": "markdown",
      "source": [
        "LOGISTRIC REGRESSION"
      ],
      "metadata": {
        "id": "hinIzNaRKtX2"
      }
    },
    {
      "cell_type": "code",
      "source": [
        "#logistric regression\n",
        "from sklearn.metrics import accuracy_score, confusion_matrix\n",
        "import seaborn as sns\n",
        "from sklearn.model_selection import train_test_split\n",
        "from sklearn.linear_model import LogisticRegression\n",
        "x_train, x_test, y_train, y_test = train_test_split(x,y,test_size=0.29,random_state=42)\n",
        "model = LogisticRegression()\n",
        "model.fit(x_train, y_train)\n",
        "y_pred = model.predict(x_test)\n",
        "Accuracy = accuracy_score(y_test, y_pred)\n",
        "print(\"Accuracy:\", Accuracy)"
      ],
      "metadata": {
        "colab": {
          "base_uri": "https://localhost:8080/"
        },
        "id": "fP9K_EkGG-8i",
        "outputId": "764b3c5a-8734-4d89-9cd3-e307ae522a83"
      },
      "execution_count": 10,
      "outputs": [
        {
          "output_type": "stream",
          "name": "stdout",
          "text": [
            "Accuracy: 0.9333333333333333\n"
          ]
        }
      ]
    },
    {
      "cell_type": "markdown",
      "source": [
        "SUPPORT VECTOR MECHINE(SVM)\n"
      ],
      "metadata": {
        "id": "NOkb4RAmK4Ih"
      }
    },
    {
      "cell_type": "code",
      "source": [
        "#SVM\n",
        "from sklearn import datasets\n",
        "from sklearn.model_selection import train_test_split\n",
        "from sklearn.svm import SVC\n",
        "from sklearn.svm import SVR\n",
        "from sklearn.metrics import accuracy_score, mean_squared_error\n",
        "X_train, X_test, y_train, y_test = train_test_split(x,y, test_size=0.2, random_state=42)\n",
        "model = SVC(kernel='linear')\n",
        "model.fit(X_train, y_train)\n",
        "y_pred = model.predict(X_test)\n",
        "acc = accuracy_score(y_test, y_pred)\n",
        "print(f'Accuracy: {acc}')"
      ],
      "metadata": {
        "colab": {
          "base_uri": "https://localhost:8080/"
        },
        "id": "IO0_ybDaHI0e",
        "outputId": "2c7c1a0f-51f5-4cf7-8537-ba7429a1bcfb"
      },
      "execution_count": 11,
      "outputs": [
        {
          "output_type": "stream",
          "name": "stdout",
          "text": [
            "Accuracy: 0.9523809523809523\n"
          ]
        }
      ]
    },
    {
      "cell_type": "markdown",
      "source": [
        "PERCEPTRON LEARNING\n"
      ],
      "metadata": {
        "id": "5sXLNYe7LD1X"
      }
    },
    {
      "cell_type": "code",
      "source": [
        "\n",
        "# Perceptron Learning\n",
        "perceptron_model = Perceptron(max_iter=1000)\n",
        "perceptron_model.fit(X_train, y_train)\n",
        "perceptron_predictions = perceptron_model.predict(X_test)\n",
        "perceptron_accuracy = accuracy_score(y_test, perceptron_predictions)\n",
        "print(\"Perceptron Learning:\")\n",
        "print(f\"Accuracy: {perceptron_accuracy:.3f}\")"
      ],
      "metadata": {
        "colab": {
          "base_uri": "https://localhost:8080/"
        },
        "id": "_S9Bqg-0LLto",
        "outputId": "0bc6f83a-2556-430b-fbda-0aa9f37500ab"
      },
      "execution_count": 15,
      "outputs": [
        {
          "output_type": "stream",
          "name": "stdout",
          "text": [
            "Perceptron Learning:\n",
            "Accuracy: 0.952\n"
          ]
        }
      ]
    },
    {
      "cell_type": "code",
      "source": [
        "from sklearn.metrics import confusion_matrix\n",
        "\n",
        "cm = confusion_matrix(y_test, y_pred)\n",
        "print (\"Confusion Matrix : \\n\", cm)\n",
        "\n",
        "from sklearn.metrics import confusion_matrix, accuracy_score, precision_score, recall_score, f1_score\n",
        "\n",
        "accuracy = accuracy_score(y_test, y_pred)\n",
        "print(\"Accuracy:\", accuracy)\n",
        "\n",
        "# Calculate and print precision\n",
        "precision = precision_score(y_test, y_pred, average='weighted',zero_division=0)\n",
        "print(\"Precision:\", precision)\n",
        "\n",
        "# Calculate and print recall\n",
        "recall = recall_score(y_test, y_pred, average='weighted')\n",
        "print(\"Recall:\", recall)\n",
        "\n",
        "# Calculate and print F1-score\n",
        "f1 = f1_score(y_test, y_pred, average='weighted')\n",
        "print(\"F1-score:\", f1)"
      ],
      "metadata": {
        "colab": {
          "base_uri": "https://localhost:8080/"
        },
        "id": "YyCIgte7M47X",
        "outputId": "1c94b75c-4cff-47bf-e2f7-f0bdaae3d722"
      },
      "execution_count": 16,
      "outputs": [
        {
          "output_type": "stream",
          "name": "stdout",
          "text": [
            "Confusion Matrix : \n",
            " [[ 2  0  0  0  0  0]\n",
            " [ 0  2  0  0  0  0]\n",
            " [ 0  0  3  0  0  0]\n",
            " [ 0  0  0 12  0  0]\n",
            " [ 0  0  0  0  1  0]\n",
            " [ 0  1  0  0  0  0]]\n",
            "Accuracy: 0.9523809523809523\n",
            "Precision: 0.9206349206349206\n",
            "Recall: 0.9523809523809523\n",
            "F1-score: 0.9333333333333333\n"
          ]
        }
      ]
    },
    {
      "cell_type": "code",
      "source": [
        "import matplotlib.pyplot as plt\n",
        "\n",
        "algorithm_names = ['Perceptron network', 'Logistic Regression', 'Support Vector Machine']\n",
        "accuracy_scores = [perceptron_accuracy, Accuracy, acc]\n",
        "\n",
        "plt.figure(figsize=(10, 5))\n",
        "\n",
        "# Bar chart for accuracy scores\n",
        "plt.bar(algorithm_names, accuracy_scores, color='Green', alpha=0.7)\n",
        "plt.xlabel('Classification Algorithms')\n",
        "plt.ylabel('Accuracy Scores')\n",
        "plt.title('Performance Comparison')\n",
        "\n",
        "# Adding data labels\n",
        "for i, v in enumerate(accuracy_scores):\n",
        "    plt.text(i, v + 0.01, str(round(v, 2)), ha='center', va='bottom')\n",
        "\n",
        "# Rotating the x-axis labels for better visibility\n",
        "plt.xticks(rotation=45)\n",
        "\n",
        "# Displaying the plot\n",
        "plt.show()"
      ],
      "metadata": {
        "colab": {
          "base_uri": "https://localhost:8080/",
          "height": 600
        },
        "id": "2OS2RiIiNArB",
        "outputId": "2a2c14fd-4a26-4543-c37c-23fca0423a0a"
      },
      "execution_count": 19,
      "outputs": [
        {
          "output_type": "display_data",
          "data": {
            "text/plain": [
              "<Figure size 1000x500 with 1 Axes>"
            ],
            "image/png": "[encoded data removed]"
          },
          "metadata": {}
        }
      ]
    }
  ]
}